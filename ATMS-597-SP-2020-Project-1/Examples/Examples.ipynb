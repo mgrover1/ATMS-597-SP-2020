{
  "nbformat": 4,
  "nbformat_minor": 0,
  "metadata": {
    "colab": {
      "name": "Examples.ipynb",
      "provenance": [],
      "collapsed_sections": [],
      "authorship_tag": "ABX9TyPSbX2s24+v+e0uNTUYlx95",
      "include_colab_link": true
    },
    "kernelspec": {
      "name": "python3",
      "display_name": "Python 3"
    }
  },
  "cells": [
    {
      "cell_type": "markdown",
      "metadata": {
        "id": "view-in-github",
        "colab_type": "text"
      },
      "source": [
        "<a href=\"https://colab.research.google.com/github/szymbor2/ATMS-597-SP-2020/blob/master/ATMS-597-SP-2020-Project-1/Examples/Examples.ipynb\" target=\"_parent\"><img src=\"https://colab.research.google.com/assets/colab-badge.svg\" alt=\"Open In Colab\"/></a>"
      ]
    },
    {
      "cell_type": "markdown",
      "metadata": {
        "id": "30cUNHSSVYHW",
        "colab_type": "text"
      },
      "source": [
        "ATMS 597 "
      ]
    },
    {
      "cell_type": "code",
      "metadata": {
        "id": "2qCBzsc8VYi3",
        "colab_type": "code",
        "colab": {}
      },
      "source": [
        "from modules.TempConvert import TempConvert\n",
        "import numpy as np"
      ],
      "execution_count": 0,
      "outputs": []
    }
  ]
}