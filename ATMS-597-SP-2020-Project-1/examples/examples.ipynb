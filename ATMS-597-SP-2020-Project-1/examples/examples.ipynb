{
  "nbformat": 4,
  "nbformat_minor": 0,
  "metadata": {
    "colab": {
      "name": "Examples.ipynb",
      "provenance": [],
      "collapsed_sections": [],
      "authorship_tag": "ABX9TyOA2oKXjAure6sLphpmAhh8",
      "include_colab_link": true
    },
    "kernelspec": {
      "name": "python3",
      "display_name": "Python 3"
    }
  },
  "cells": [
    {
      "cell_type": "markdown",
      "metadata": {
        "id": "view-in-github",
        "colab_type": "text"
      },
      "source": [
        "<a href=\"https://colab.research.google.com/github/szymbor2/ATMS-597-SP-2020/blob/master/ATMS-597-SP-2020-Project-1/examples/examples.ipynb\" target=\"_parent\"><img src=\"https://colab.research.google.com/assets/colab-badge.svg\" alt=\"Open In Colab\"/></a>"
      ]
    },
    {
      "cell_type": "markdown",
      "metadata": {
        "id": "30cUNHSSVYHW",
        "colab_type": "text"
      },
      "source": [
        "# ATMS 597 Project 1"
      ]
    },
    {
      "cell_type": "markdown",
      "metadata": {
        "id": "Y6cwyLaXtzGi",
        "colab_type": "text"
      },
      "source": [
        "## Background"
      ]
    },
    {
      "cell_type": "markdown",
      "metadata": {
        "id": "2yjKCpkIt0WA",
        "colab_type": "text"
      },
      "source": [
        "### First, mount drive and import <i>TempConvert</i> library."
      ]
    },
    {
      "cell_type": "code",
      "metadata": {
        "id": "rGK-2tIVsSL5",
        "colab_type": "code",
        "colab": {
          "base_uri": "https://localhost:8080/",
          "height": 122
        },
        "outputId": "ed04d039-a038-4e6d-e0be-c84dc8bac4a7"
      },
      "source": [
        "from google.colab import drive\n",
        "drive.mount('/content/drive')"
      ],
      "execution_count": 5,
      "outputs": [
        {
          "output_type": "stream",
          "text": [
            "Go to this URL in a browser: https://accounts.google.com/o/oauth2/auth?client_id=947318989803-6bn6qk8qdgf4n4g3pfee6491hc0brc4i.apps.googleusercontent.com&redirect_uri=urn%3aietf%3awg%3aoauth%3a2.0%3aoob&response_type=code&scope=email%20https%3a%2f%2fwww.googleapis.com%2fauth%2fdocs.test%20https%3a%2f%2fwww.googleapis.com%2fauth%2fdrive%20https%3a%2f%2fwww.googleapis.com%2fauth%2fdrive.photos.readonly%20https%3a%2f%2fwww.googleapis.com%2fauth%2fpeopleapi.readonly\n",
            "\n",
            "Enter your authorization code:\n",
            "··········\n",
            "Mounted at /content/drive\n"
          ],
          "name": "stdout"
        }
      ]
    },
    {
      "cell_type": "code",
      "metadata": {
        "id": "2qCBzsc8VYi3",
        "colab_type": "code",
        "colab": {}
      },
      "source": [
        "from tempconvert import TempConvert\n",
        "import numpy as np"
      ],
      "execution_count": 0,
      "outputs": []
    },
    {
      "cell_type": "markdown",
      "metadata": {
        "id": "00-Krn8NtSt2",
        "colab_type": "text"
      },
      "source": [
        "### TempConvert offers the functionality to convert any temperature into units of Celsius, Fahrenheit, or Kelvin. Run the cell below to learn more about the input unit types and syntax."
      ]
    },
    {
      "cell_type": "code",
      "metadata": {
        "id": "-iPjVhBfpkWZ",
        "colab_type": "code",
        "colab": {}
      },
      "source": [
        "TempConvert?"
      ],
      "execution_count": 0,
      "outputs": []
    },
    {
      "cell_type": "markdown",
      "metadata": {
        "id": "sFq7NsylusRe",
        "colab_type": "text"
      },
      "source": [
        "### TempConvert calls in two arguments followed by <i>.to()</i> in order convert the temperature.\n",
        "\n"
      ]
    },
    {
      "cell_type": "markdown",
      "metadata": {
        "id": "ob7wECHrtnp7",
        "colab_type": "text"
      },
      "source": [
        "## Using different input types."
      ]
    },
    {
      "cell_type": "markdown",
      "metadata": {
        "id": "W25f_fy9t9D2",
        "colab_type": "text"
      },
      "source": [
        "### First, we will try with an int, float, and string."
      ]
    },
    {
      "cell_type": "code",
      "metadata": {
        "id": "haZjCMepsoY9",
        "colab_type": "code",
        "colab": {
          "base_uri": "https://localhost:8080/",
          "height": 34
        },
        "outputId": "14711f0c-1f16-4ae4-c614-56eb61457c61"
      },
      "source": [
        "# int\n",
        "t_i = TempConvert(10, 'degF').to('degC')\n",
        "print(t_i)"
      ],
      "execution_count": 13,
      "outputs": [
        {
          "output_type": "stream",
          "text": [
            "-12.222222222222223\n"
          ],
          "name": "stdout"
        }
      ]
    },
    {
      "cell_type": "code",
      "metadata": {
        "id": "mDjYCroOvmt6",
        "colab_type": "code",
        "colab": {
          "base_uri": "https://localhost:8080/",
          "height": 34
        },
        "outputId": "03738ec1-0ba8-41fd-e01e-e9686c2518a4"
      },
      "source": [
        "# float\n",
        "t_f = TempConvert(10.0, 'degF').to('degC')\n",
        "print(t_f)"
      ],
      "execution_count": 14,
      "outputs": [
        {
          "output_type": "stream",
          "text": [
            "-12.222222222222223\n"
          ],
          "name": "stdout"
        }
      ]
    },
    {
      "cell_type": "code",
      "metadata": {
        "id": "xLdzUcn7voiQ",
        "colab_type": "code",
        "colab": {
          "base_uri": "https://localhost:8080/",
          "height": 34
        },
        "outputId": "ea7dfbd6-5558-47b9-d192-b331ba3158e6"
      },
      "source": [
        "# string\n",
        "t_s = TempConvert('10', 'degF').to('degC')\n",
        "print(t_s)"
      ],
      "execution_count": 15,
      "outputs": [
        {
          "output_type": "stream",
          "text": [
            "-12.222222222222223\n"
          ],
          "name": "stdout"
        }
      ]
    },
    {
      "cell_type": "markdown",
      "metadata": {
        "id": "xIXgkNjluDDj",
        "colab_type": "text"
      },
      "source": [
        "### Now, let's try with a group of numbers using nd.array and lists."
      ]
    },
    {
      "cell_type": "code",
      "metadata": {
        "id": "qVlhTAy7uFnR",
        "colab_type": "code",
        "colab": {
          "base_uri": "https://localhost:8080/",
          "height": 34
        },
        "outputId": "eba90c50-edca-4535-b8bd-b65737939e02"
      },
      "source": [
        "# nd.array\n",
        "input_array = np.array([10, 20, 30, 40])\n",
        "t_array = TempConvert(input_array, 'degF').to('degC')\n",
        "print(t_array)"
      ],
      "execution_count": 18,
      "outputs": [
        {
          "output_type": "stream",
          "text": [
            "[-12.22222222  -6.66666667  -1.11111111   4.44444444]\n"
          ],
          "name": "stdout"
        }
      ]
    },
    {
      "cell_type": "code",
      "metadata": {
        "id": "9esK9h89vwvW",
        "colab_type": "code",
        "colab": {
          "base_uri": "https://localhost:8080/",
          "height": 34
        },
        "outputId": "15b66169-f2f7-4466-ae26-f99a2ccb41ca"
      },
      "source": [
        "# list\n",
        "input_list = [10, 20, 30, 40]\n",
        "t_list = TempConvert(input_list, 'degF').to('degC')\n",
        "print(t_list)"
      ],
      "execution_count": 19,
      "outputs": [
        {
          "output_type": "stream",
          "text": [
            "[-12.222222222222223, -6.666666666666667, -1.1111111111111112, 4.444444444444445]\n"
          ],
          "name": "stdout"
        }
      ]
    },
    {
      "cell_type": "markdown",
      "metadata": {
        "id": "gyBhb2QguKKJ",
        "colab_type": "text"
      },
      "source": [
        "## Converting to different temperature units."
      ]
    },
    {
      "cell_type": "markdown",
      "metadata": {
        "id": "IoqmjtWJwImw",
        "colab_type": "text"
      },
      "source": [
        "### Here are some examples converting to Fahrenheit."
      ]
    },
    {
      "cell_type": "code",
      "metadata": {
        "id": "jZjCmbJ9uZ5C",
        "colab_type": "code",
        "colab": {
          "base_uri": "https://localhost:8080/",
          "height": 51
        },
        "outputId": "51d49ff8-cb19-4b6a-8414-f54d63e5cbc9"
      },
      "source": [
        "x = TempConvert(0, 'degC').to('degF')\n",
        "print(x)\n",
        "\n",
        "y = TempConvert(260, 'K').to('F')\n",
        "print(y)"
      ],
      "execution_count": 25,
      "outputs": [
        {
          "output_type": "stream",
          "text": [
            "32.0\n",
            "8.330000000000041\n"
          ],
          "name": "stdout"
        }
      ]
    },
    {
      "cell_type": "markdown",
      "metadata": {
        "id": "-ySMOTbKwgwQ",
        "colab_type": "text"
      },
      "source": [
        "### Here are some examples converting to Celsius."
      ]
    },
    {
      "cell_type": "code",
      "metadata": {
        "id": "g_Qu_K2cwkED",
        "colab_type": "code",
        "colab": {
          "base_uri": "https://localhost:8080/",
          "height": 51
        },
        "outputId": "87da1e3a-bb42-41d8-83f2-f049f7417ed4"
      },
      "source": [
        "x = TempConvert(32, 'F').to('degC')\n",
        "print(x)\n",
        "\n",
        "y = TempConvert(360, 'K').to('c')\n",
        "print(y)"
      ],
      "execution_count": 26,
      "outputs": [
        {
          "output_type": "stream",
          "text": [
            "0.0\n",
            "86.85000000000002\n"
          ],
          "name": "stdout"
        }
      ]
    },
    {
      "cell_type": "markdown",
      "metadata": {
        "id": "hTEm6OSewrjS",
        "colab_type": "text"
      },
      "source": [
        "### Here are some examples converting to Kelvin."
      ]
    },
    {
      "cell_type": "code",
      "metadata": {
        "id": "PMJFQvmKwpmW",
        "colab_type": "code",
        "colab": {
          "base_uri": "https://localhost:8080/",
          "height": 51
        },
        "outputId": "fe43f881-5076-4f31-847c-5d19fcc7c823"
      },
      "source": [
        "x = TempConvert(100, 'f').to('K')\n",
        "print(x)\n",
        "\n",
        "y = TempConvert(300, 'K').to('k')\n",
        "print(y)"
      ],
      "execution_count": 29,
      "outputs": [
        {
          "output_type": "stream",
          "text": [
            "<bound method TempConvert._f2k of <tempconvert.TempConvert object at 0x7f7d8eb9f080>>\n",
            "300\n"
          ],
          "name": "stdout"
        }
      ]
    }
  ]
}