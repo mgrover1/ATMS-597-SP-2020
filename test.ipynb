{
  "nbformat": 4,
  "nbformat_minor": 0,
  "metadata": {
    "colab": {
      "name": "test.ipynb",
      "provenance": [],
      "collapsed_sections": [],
      "authorship_tag": "ABX9TyN6jBDlGdDu3i8KD9/Xm2kc",
      "include_colab_link": true
    },
    "kernelspec": {
      "name": "python3",
      "display_name": "Python 3"
    }
  },
  "cells": [
    {
      "cell_type": "markdown",
      "metadata": {
        "id": "view-in-github",
        "colab_type": "text"
      },
      "source": [
        "<a href=\"https://colab.research.google.com/github/szymbor2/ATMS-597-SP-2020/blob/sarahtest/test.ipynb\" target=\"_parent\"><img src=\"https://colab.research.google.com/assets/colab-badge.svg\" alt=\"Open In Colab\"/></a>"
      ]
    },
    {
      "cell_type": "code",
      "metadata": {
        "id": "IVxDUWKO5hBW",
        "colab_type": "code",
        "outputId": "fed110bd-125c-4b3c-8d58-fb55223f67d2",
        "colab": {
          "base_uri": "https://localhost:8080/",
          "height": 1000
        }
      },
      "source": [
        "# from google.colab import drive\n",
        "# drive.mount('/content/drive')\n",
        "\n",
        "# !ls /content/drive/My\\ Drive\n",
        "\n",
        "Test"
      ],
      "execution_count": 0,
      "outputs": [
        {
          "output_type": "stream",
          "text": [
            "hello world\n",
            "Go to this URL in a browser: https://accounts.google.com/o/oauth2/auth?client_id=947318989803-6bn6qk8qdgf4n4g3pfee6491hc0brc4i.apps.googleusercontent.com&redirect_uri=urn%3aietf%3awg%3aoauth%3a2.0%3aoob&response_type=code&scope=email%20https%3a%2f%2fwww.googleapis.com%2fauth%2fdocs.test%20https%3a%2f%2fwww.googleapis.com%2fauth%2fdrive%20https%3a%2f%2fwww.googleapis.com%2fauth%2fdrive.photos.readonly%20https%3a%2f%2fwww.googleapis.com%2fauth%2fpeopleapi.readonly\n",
            "\n",
            "Enter your authorization code:\n",
            "··········\n",
            "Mounted at /content/drive\n",
            "'2019 Monthly Calendar - Landscape (1).gsheet'\n",
            "'2019 Monthly Calendar - Landscape.gsheet'\n",
            " Apartments\n",
            " Beachbody\n",
            " Car\n",
            " CMS\n",
            "'CMS Spring 2019 Progress Notes - 7th Gr.gdoc'\n",
            "'current premade inventory.gsheet'\n",
            "'current premade inventory.xlsx'\n",
            "'Danielle’s Bachelorette'\n",
            "'Decent Grad Pics.zip'\n",
            " Dog\n",
            "'Dog Training'\n",
            " Dunes_092919.zip\n",
            " editsforapollo.zip\n",
            "'editss (1).zip'\n",
            " editss.zip\n",
            " giveaway.gsheet\n",
            "'Graduation Pictures'\n",
            "'HAND WEDDING'\n",
            "'Identifying Your Ideal Client.gdoc'\n",
            " IMG_5338.JPG\n",
            " IMG_5341.JPG\n",
            " IMG_5344.JPG\n",
            " IMG_5626.jpg\n",
            " IMG_6922.jpg\n",
            " IMG_6925.jpg\n",
            " IMG_6933.jpg\n",
            " IMG_6940.jpg\n",
            " IMG_6956.jpg\n",
            " IMG_6958.jpg\n",
            " IMG_6961.jpg\n",
            " IMG_6964.jpg\n",
            " IMG_7342.jpg\n",
            " IMG_7347.jpg\n",
            " IMG_7356.jpg\n",
            " IMG_7363.jpg\n",
            " IMG_7370.jpg\n",
            "'Important !!!'\n",
            "'January 2019 Time Sheet.docx'\n",
            "'July 2018'\n",
            "'Kristen Wedding'\n",
            "'LAL Format Instr.gdoc'\n",
            "'LAL Format Instr.pdf'\n",
            " Lily.zip\n",
            " Loans.gsheet\n",
            " Luna\n",
            "'Luna Doc.gdoc'\n",
            "'Luna Food.gsheet'\n",
            "'MSCAR 2019 Planning Committee.gdoc'\n",
            "'My budget sheet 2020 (1).gsheet'\n",
            "'My budget sheet 2020.gsheet'\n",
            "'My budget sheet 2020.xlsx'\n",
            " Myrtle\n",
            "'Primary Survery.gform'\n",
            " Rafiki.zip\n",
            "'Sarah and Kyle'\n",
            " School\n",
            " Taylor.zip\n",
            " TheGoodMuttMobile\n",
            " TKN\n",
            " Weather\n",
            "'Wedding Addresses.docx'\n",
            "'Wedding Addresses.gdoc'\n",
            "'Work - Amazon'\n",
            "'Work - Shirts'\n"
          ],
          "name": "stdout"
        }
      ]
    },
    {
      "cell_type": "code",
      "metadata": {
        "id": "EurBuKQIgHEj",
        "colab_type": "code",
        "colab": {}
      },
      "source": [
        ""
      ],
      "execution_count": 0,
      "outputs": []
    },
    {
      "cell_type": "code",
      "metadata": {
        "id": "b_Hkqqt46bBo",
        "colab_type": "code",
        "colab": {}
      },
      "source": [
        ""
      ],
      "execution_count": 0,
      "outputs": []
    }
  ]
}