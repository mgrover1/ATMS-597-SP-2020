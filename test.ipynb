{
  "nbformat": 4,
  "nbformat_minor": 0,
  "metadata": {
    "colab": {
      "name": "test.ipynb",
      "provenance": [],
      "collapsed_sections": [],
      "authorship_tag": "ABX9TyMUO+SyLTFPRNToiLtx0Xan",
      "include_colab_link": true
    },
    "kernelspec": {
      "name": "python3",
      "display_name": "Python 3"
    }
  },
  "cells": [
    {
      "cell_type": "markdown",
      "metadata": {
        "id": "view-in-github",
        "colab_type": "text"
      },
      "source": [
        "<a href=\"https://colab.research.google.com/github/szymbor2/ATMS-597-SP-2020/blob/sarahtest/test.ipynb\" target=\"_parent\"><img src=\"https://colab.research.google.com/assets/colab-badge.svg\" alt=\"Open In Colab\"/></a>"
      ]
    },
    {
      "cell_type": "markdown",
      "metadata": {
        "id": "FslCRvAXkjkf",
        "colab_type": "text"
      },
      "source": [
        "## Using Conditionals"
      ]
    },
    {
      "cell_type": "code",
      "metadata": {
        "id": "EurBuKQIgHEj",
        "colab_type": "code",
        "colab": {
          "base_uri": "https://localhost:8080/",
          "height": 85
        },
        "outputId": "d85ece18-84e8-4db5-d67b-f52c1993a0b2"
      },
      "source": [
        "x = 0\n",
        "while x == 0:\n",
        "  number = input('Number: ')\n",
        "  units = input('Units: C, F, K ').upper()\n",
        "  convert = input('Convert to: C, F, K: ').upper()\n",
        "  if units == 'C' and convert == 'F':\n",
        "    answer = int(number) * (9/5) + 32\n",
        "    x = 1\n",
        "  elif units == 'C' and convert == 'K':\n",
        "    answer = int(number) + 273.15\n",
        "    x = 1\n",
        "  elif units == 'C' and convert == 'C':\n",
        "    answer = number\n",
        "    x = 1\n",
        "  elif units == 'F' and convert == 'C':\n",
        "    answer = int(number) * (5/9)\n",
        "    x = 1\n",
        "  elif units == 'F' and convert == 'K':\n",
        "    answer = (int(number) - 32) * (5/9) + 273.15\n",
        "    x = 1\n",
        "  elif units == 'F' and convert == 'F':\n",
        "    answer = number\n",
        "    x = 1\n",
        "  elif units == 'K' and convert == 'F':\n",
        "    answer = (int(number) - 273.15) * (9/5) + 32\n",
        "    x = 1\n",
        "  elif units == 'K' and convert == 'C':\n",
        "    answer = int(number) - 273.15\n",
        "    x = 1\n",
        "  elif units == 'K' and convert == 'K':\n",
        "    answer = number\n",
        "    x = 1\n",
        "  else:\n",
        "    x = 0\n",
        "    print('Error. Please retry.')\n",
        "\n",
        "print(number + ' ' + units + ' = ' + str(answer) + ' ' + convert)"
      ],
      "execution_count": 18,
      "outputs": [
        {
          "output_type": "stream",
          "text": [
            "Number: 10\n",
            "Units: C, F, K k\n",
            "Convert to: C, F, K: c\n",
            "10 K = -263.15 C\n"
          ],
          "name": "stdout"
        }
      ]
    },
    {
      "cell_type": "code",
      "metadata": {
        "id": "9SyQjPNTk7_k",
        "colab_type": "code",
        "colab": {}
      },
      "source": [
        ""
      ],
      "execution_count": 0,
      "outputs": []
    }
  ]
}