{
  "nbformat": 4,
  "nbformat_minor": 0,
  "metadata": {
    "colab": {
      "name": "test.ipynb",
      "provenance": [],
      "collapsed_sections": [],
      "authorship_tag": "ABX9TyM9oXmtkVUAxw+7PbLt/dix",
      "include_colab_link": true
    },
    "kernelspec": {
      "name": "python3",
      "display_name": "Python 3"
    }
  },
  "cells": [
    {
      "cell_type": "markdown",
      "metadata": {
        "id": "view-in-github",
        "colab_type": "text"
      },
      "source": [
        "<a href=\"https://colab.research.google.com/github/szymbor2/ATMS-597-SP-2020/blob/master/test.ipynb\" target=\"_parent\"><img src=\"https://colab.research.google.com/assets/colab-badge.svg\" alt=\"Open In Colab\"/></a>"
      ]
    },
    {
      "cell_type": "markdown",
      "metadata": {
        "id": "FslCRvAXkjkf",
        "colab_type": "text"
      },
      "source": [
        "## Sarah Test"
      ]
    },
    {
      "cell_type": "code",
      "metadata": {
        "id": "I7e0WpC2JGvZ",
        "colab_type": "code",
        "colab": {}
      },
      "source": [
        "class conversion():\n",
        "    def __init__ (self, conversion):\n",
        "        self.conversion = []\n",
        "\n",
        "    def convert(number, units, convert):\n",
        "        try:\n",
        "            number = int(number)\n",
        "        except ValueError:\n",
        "            return 'Error. Please retry. Make sure you enter a number and not a letter.'\n",
        "        units = units\n",
        "        convert = convert\n",
        "        if units == 'C' and convert == 'F':\n",
        "            answer = int(number) * (9/5) + 32\n",
        "        elif units == 'C' and convert == 'K':\n",
        "            answer = int(number) + 273.15\n",
        "        elif units == 'C' and convert == 'C':\n",
        "            answer = number\n",
        "        elif units == 'F' and convert == 'C':\n",
        "            answer = (int(number) - 32) * (5/9)\n",
        "        elif units == 'F' and convert == 'K':\n",
        "            answer = (int(number) - 32) * (5/9) + 273.15\n",
        "        elif units == 'F' and convert == 'F':\n",
        "            answer = number\n",
        "        elif units == 'K' and convert == 'F':\n",
        "            answer = (int(number) - 273.15) * (9/5) + 32\n",
        "        elif units == 'K' and convert == 'C':\n",
        "            answer = int(number) - 273.15\n",
        "        elif units == 'K' and convert == 'K':\n",
        "            answer = number\n",
        "        else:\n",
        "            print('Error. Please retry. Make sure you type in (#, original unit, new unit).')\n",
        "\n",
        "        return 'Conversion: ' + str(number) + str(units) + ' = ' + str(answer) + str(convert)"
      ],
      "execution_count": 0,
      "outputs": []
    },
    {
      "cell_type": "code",
      "metadata": {
        "id": "DEBcF4ldjDsN",
        "colab_type": "code",
        "outputId": "5d60f345-0636-49bc-9dbb-7f67564d270c",
        "colab": {
          "base_uri": "https://localhost:8080/",
          "height": 34
        }
      },
      "source": [
        "conversion.convert('10','C','K')"
      ],
      "execution_count": 0,
      "outputs": [
        {
          "output_type": "execute_result",
          "data": {
            "text/plain": [
              "'Conversion: 10C = 283.15K'"
            ]
          },
          "metadata": {
            "tags": []
          },
          "execution_count": 101
        }
      ]
    },
    {
      "cell_type": "code",
      "metadata": {
        "id": "cqCMoaeuoU9G",
        "colab_type": "code",
        "colab": {}
      },
      "source": [
        ""
      ],
      "execution_count": 0,
      "outputs": []
    }
  ]
}